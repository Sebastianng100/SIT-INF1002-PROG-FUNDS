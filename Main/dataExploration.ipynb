{
 "cells": [
  {
   "cell_type": "code",
   "execution_count": 4,
   "metadata": {},
   "outputs": [],
   "source": [
    "import pandas as pd\n",
    "import numpy as np\n",
    "import matplotlib.pyplot as plt\n",
    "import sklearn "
   ]
  },
  {
   "cell_type": "code",
   "execution_count": 7,
   "metadata": {},
   "outputs": [],
   "source": [
    "dfCEAS = pd.read_csv('data/CEAS_08.csv')\n",
    "dfSA = pd.read_csv('data/SpamAssasin.csv')"
   ]
  },
  {
   "cell_type": "code",
   "execution_count": 8,
   "metadata": {},
   "outputs": [
    {
     "name": "stdout",
     "output_type": "stream",
     "text": [
      "CEAS_08 Dataset\n",
      "Number of rows: 39154, Number of Columns: 7\n",
      "Spam Assasin Dataset\n",
      "Number of rows: 5809, Number of columns: 7\n"
     ]
    }
   ],
   "source": [
    "print(\"CEAS_08 Dataset\")\n",
    "print(f\"Number of rows: {dfCEAS.shape[0]}, Number of Columns: {dfCEAS.shape[1]}\")\n",
    "print(\"Spam Assasin Dataset\")\n",
    "print(f\"Number of rows: {dfSA.shape[0]}, Number of columns: {dfSA.shape[1]}\")\n"
   ]
  },
  {
   "cell_type": "code",
   "execution_count": 4,
   "metadata": {},
   "outputs": [
    {
     "name": "stdout",
     "output_type": "stream",
     "text": [
      "<class 'pandas.core.frame.DataFrame'>\n",
      "RangeIndex: 39154 entries, 0 to 39153\n",
      "Data columns (total 7 columns):\n",
      " #   Column    Non-Null Count  Dtype \n",
      "---  ------    --------------  ----- \n",
      " 0   sender    39154 non-null  object\n",
      " 1   receiver  38692 non-null  object\n",
      " 2   date      39154 non-null  object\n",
      " 3   subject   39126 non-null  object\n",
      " 4   body      39154 non-null  object\n",
      " 5   label     39154 non-null  int64 \n",
      " 6   urls      39154 non-null  int64 \n",
      "dtypes: int64(2), object(5)\n",
      "memory usage: 2.1+ MB\n",
      "None\n",
      "                                              sender  \\\n",
      "0                   Young Esposito <Young@iworld.de>   \n",
      "1                       Mok <ipline's1983@icable.ph>   \n",
      "2  Daily Top 10 <Karmandeep-opengevl@universalnet...   \n",
      "3                 Michael Parker <ivqrnai@pobox.com>   \n",
      "4  Gretchen Suggs <externalsep1@loanofficertool.com>   \n",
      "\n",
      "                                         receiver  \\\n",
      "0                     user4@gvc.ceas-challenge.cc   \n",
      "1                   user2.2@gvc.ceas-challenge.cc   \n",
      "2                   user2.9@gvc.ceas-challenge.cc   \n",
      "3  SpamAssassin Dev <xrh@spamassassin.apache.org>   \n",
      "4                   user2.2@gvc.ceas-challenge.cc   \n",
      "\n",
      "                              date  \\\n",
      "0  Tue, 05 Aug 2008 16:31:02 -0700   \n",
      "1  Tue, 05 Aug 2008 18:31:03 -0500   \n",
      "2  Tue, 05 Aug 2008 20:28:00 -1200   \n",
      "3  Tue, 05 Aug 2008 17:31:20 -0600   \n",
      "4  Tue, 05 Aug 2008 19:31:21 -0400   \n",
      "\n",
      "                                             subject  \\\n",
      "0                          Never agree to be a loser   \n",
      "1                             Befriend Jenna Jameson   \n",
      "2                               CNN.com Daily Top 10   \n",
      "3  Re: svn commit: r619753 - in /spamassassin/tru...   \n",
      "4                         SpecialPricesPharmMoreinfo   \n",
      "\n",
      "                                                body  label  urls  \n",
      "0  Buck up, your troubles caused by small dimensi...      1     1  \n",
      "1  \\nUpgrade your sex and pleasures with these te...      1     1  \n",
      "2  >+=+=+=+=+=+=+=+=+=+=+=+=+=+=+=+=+=+=+=+=+=+=+...      1     1  \n",
      "3  Would anyone object to removing .so from this ...      0     1  \n",
      "4  \\nWelcomeFastShippingCustomerSupport\\nhttp://7...      1     1  \n"
     ]
    }
   ],
   "source": [
    "print(dfCEAS.info())\n",
    "print(dfCEAS.head())"
   ]
  },
  {
   "cell_type": "code",
   "execution_count": 9,
   "metadata": {},
   "outputs": [
    {
     "name": "stdout",
     "output_type": "stream",
     "text": [
      "<class 'pandas.core.frame.DataFrame'>\n",
      "RangeIndex: 5809 entries, 0 to 5808\n",
      "Data columns (total 7 columns):\n",
      " #   Column    Non-Null Count  Dtype \n",
      "---  ------    --------------  ----- \n",
      " 0   sender    5809 non-null   object\n",
      " 1   receiver  5599 non-null   object\n",
      " 2   date      5809 non-null   object\n",
      " 3   subject   5793 non-null   object\n",
      " 4   body      5808 non-null   object\n",
      " 5   label     5809 non-null   int64 \n",
      " 6   urls      5809 non-null   int64 \n",
      "dtypes: int64(2), object(5)\n",
      "memory usage: 317.8+ KB\n",
      "None\n",
      "                                      sender  \\\n",
      "0             Robert Elz <kre@munnari.OZ.AU>   \n",
      "1  Steve Burt <Steve_Burt@cursor-system.com>   \n",
      "2              \"Tim Chapman\" <timc@2ubh.com>   \n",
      "3           Monty Solomon <monty@roscom.com>   \n",
      "4  Stewart Smith <Stewart.Smith@ee.ed.ac.uk>   \n",
      "\n",
      "                                            receiver  \\\n",
      "0  Chris Garrigues <cwg-dated-1030377287.06fa6d@D...   \n",
      "1  \"'zzzzteana@yahoogroups.com'\" <zzzzteana@yahoo...   \n",
      "2              zzzzteana <zzzzteana@yahoogroups.com>   \n",
      "3                           undisclosed-recipient: ;   \n",
      "4                          zzzzteana@yahoogroups.com   \n",
      "\n",
      "                              date  \\\n",
      "0  Thu, 22 Aug 2002 18:26:25 +0700   \n",
      "1  Thu, 22 Aug 2002 12:46:18 +0100   \n",
      "2  Thu, 22 Aug 2002 13:52:38 +0100   \n",
      "3  Thu, 22 Aug 2002 09:15:25 -0400   \n",
      "4  Thu, 22 Aug 2002 14:38:22 +0100   \n",
      "\n",
      "                                          subject  \\\n",
      "0                        Re: New Sequences Window   \n",
      "1                       [zzzzteana] RE: Alexander   \n",
      "2                       [zzzzteana] Moscow bomber   \n",
      "3           [IRR] Klez: The Virus That  Won't Die   \n",
      "4  Re: [zzzzteana] Nothing like mama used to make   \n",
      "\n",
      "                                                body  label  urls  \n",
      "0  Date:        Wed, 21 Aug 2002 10:54:46 -0500  ...      0     1  \n",
      "1  Martin A posted:\\nTassos Papadopoulos, the Gre...      0     1  \n",
      "2  Man Threatens Explosion In Moscow \\n\\nThursday...      0     1  \n",
      "3  Klez: The Virus That Won't Die\\n \\nAlready the...      0     1  \n",
      "4  >  in adding cream to spaghetti carbonara, whi...      0     1  \n"
     ]
    }
   ],
   "source": [
    "print(dfSA.info())\n",
    "print(dfSA.head())"
   ]
  },
  {
   "cell_type": "code",
   "execution_count": 10,
   "metadata": {},
   "outputs": [
    {
     "name": "stdout",
     "output_type": "stream",
     "text": [
      "<class 'pandas.core.frame.DataFrame'>\n",
      "Index: 44963 entries, 0 to 5808\n",
      "Data columns (total 7 columns):\n",
      " #   Column    Non-Null Count  Dtype \n",
      "---  ------    --------------  ----- \n",
      " 0   sender    44963 non-null  object\n",
      " 1   receiver  44291 non-null  object\n",
      " 2   date      44963 non-null  object\n",
      " 3   subject   44919 non-null  object\n",
      " 4   body      44962 non-null  object\n",
      " 5   label     44963 non-null  int64 \n",
      " 6   urls      44963 non-null  int64 \n",
      "dtypes: int64(2), object(5)\n",
      "memory usage: 2.7+ MB\n",
      "None\n",
      "                                              sender  \\\n",
      "0                   Young Esposito <Young@iworld.de>   \n",
      "1                       Mok <ipline's1983@icable.ph>   \n",
      "2  Daily Top 10 <Karmandeep-opengevl@universalnet...   \n",
      "3                 Michael Parker <ivqrnai@pobox.com>   \n",
      "4  Gretchen Suggs <externalsep1@loanofficertool.com>   \n",
      "\n",
      "                                         receiver  \\\n",
      "0                     user4@gvc.ceas-challenge.cc   \n",
      "1                   user2.2@gvc.ceas-challenge.cc   \n",
      "2                   user2.9@gvc.ceas-challenge.cc   \n",
      "3  SpamAssassin Dev <xrh@spamassassin.apache.org>   \n",
      "4                   user2.2@gvc.ceas-challenge.cc   \n",
      "\n",
      "                              date  \\\n",
      "0  Tue, 05 Aug 2008 16:31:02 -0700   \n",
      "1  Tue, 05 Aug 2008 18:31:03 -0500   \n",
      "2  Tue, 05 Aug 2008 20:28:00 -1200   \n",
      "3  Tue, 05 Aug 2008 17:31:20 -0600   \n",
      "4  Tue, 05 Aug 2008 19:31:21 -0400   \n",
      "\n",
      "                                             subject  \\\n",
      "0                          Never agree to be a loser   \n",
      "1                             Befriend Jenna Jameson   \n",
      "2                               CNN.com Daily Top 10   \n",
      "3  Re: svn commit: r619753 - in /spamassassin/tru...   \n",
      "4                         SpecialPricesPharmMoreinfo   \n",
      "\n",
      "                                                body  label  urls  \n",
      "0  Buck up, your troubles caused by small dimensi...      1     1  \n",
      "1  \\nUpgrade your sex and pleasures with these te...      1     1  \n",
      "2  >+=+=+=+=+=+=+=+=+=+=+=+=+=+=+=+=+=+=+=+=+=+=+...      1     1  \n",
      "3  Would anyone object to removing .so from this ...      0     1  \n",
      "4  \\nWelcomeFastShippingCustomerSupport\\nhttp://7...      1     1  \n"
     ]
    }
   ],
   "source": [
    "dfCombine = pd.concat([dfCEAS, dfSA])\n",
    "print(dfCombine.info())\n",
    "print(dfCombine.head())"
   ]
  },
  {
   "cell_type": "code",
   "execution_count": 11,
   "metadata": {},
   "outputs": [
    {
     "name": "stdout",
     "output_type": "stream",
     "text": [
      "False    44963\n",
      "Name: count, dtype: int64\n"
     ]
    }
   ],
   "source": [
    "print(dfCombine.duplicated().value_counts())"
   ]
  },
  {
   "cell_type": "code",
   "execution_count": 12,
   "metadata": {},
   "outputs": [
    {
     "name": "stdout",
     "output_type": "stream",
     "text": [
      "sender                       Young Esposito <Young@iworld.de>\n",
      "receiver                          user4@gvc.ceas-challenge.cc\n",
      "date                          Tue, 05 Aug 2008 16:31:02 -0700\n",
      "subject                             Never agree to be a loser\n",
      "body        Buck up, your troubles caused by small dimensi...\n",
      "label                                                       1\n",
      "urls                                                        1\n",
      "Name: 0, dtype: object\n"
     ]
    }
   ],
   "source": [
    "print(dfCombine.iloc[0])"
   ]
  },
  {
   "cell_type": "code",
   "execution_count": 146,
   "metadata": {},
   "outputs": [
    {
     "name": "stdout",
     "output_type": "stream",
     "text": [
      "label\n",
      "1    23560\n",
      "0    21403\n",
      "Name: count, dtype: int64\n"
     ]
    },
    {
     "data": {
      "image/png": "[encoded data removed]",
      "text/plain": [
       "<Figure size 500x500 with 1 Axes>"
      ]
     },
     "metadata": {},
     "output_type": "display_data"
    }
   ],
   "source": [
    "print(dfCombine['label'].value_counts())\n",
    "labels = ['Phishing', 'Legitimate']\n",
    "x = dfCombine['label'].value_counts()\n",
    "plt.figure(figsize=(5,5))\n",
    "def func(pct, values):\n",
    "    absolute = int(pct/100.*sum(values))\n",
    "    return '{:.2f}%\\n({:d})'.format(pct, absolute)\n",
    "plt.pie(x, colors=['tab:blue', 'tab:orange'], autopct=lambda pct: func(pct, x), startangle=0,)\n",
    "plt.title('Percentage of phishing emails in combined dataset')\n",
    "plt.legend(labels, title='Categories', loc='lower right', bbox_to_anchor=(1.15, 0))\n",
    "plt.show()"
   ]
  },
  {
   "cell_type": "code",
   "execution_count": 14,
   "metadata": {},
   "outputs": [
    {
     "name": "stdout",
     "output_type": "stream",
     "text": [
      "sender\n",
      "qydlqcws-iacfym@issues.apache.org                         462\n",
      "Guido van Rossum <hoauf@python.org>                       295\n",
      "\"\\\\\"Martin v. Löwis\\\\\"\" <qpnysl@v.loewis.de>              276\n",
      "\"Carlos E. R.\" <vyjwd.trpcau@telefonica.net>              208\n",
      "Aaron Kulkis <cmiqlkx91@hotpop.com>                       183\n",
      "                                                         ... \n",
      "Linwood Sloan <Linwood@goline.ca>                           1\n",
      "puromaki <verkoeld1978@stfrancis.k12.mn.us>                 1\n",
      "Maryellen Costello <shadiervh97@gillscruisecentre.com>      1\n",
      "Daily Top 10 <steins@4000down.com>                          1\n",
      "Daily Top 10 <orn|dent_1973@musicaedischi.it>               1\n",
      "Name: count, Length: 27101, dtype: int64\n"
     ]
    }
   ],
   "source": [
    "print(dfCombine['sender'].value_counts())"
   ]
  },
  {
   "cell_type": "code",
   "execution_count": 62,
   "metadata": {},
   "outputs": [
    {
     "name": "stdout",
     "output_type": "stream",
     "text": [
      "receiver\n",
      "user6@gvc.ceas-challenge.cc                         1375\n",
      "wkilxloc@opensuse.org                               1230\n",
      "user2.1@gvc.ceas-challenge.cc                       1037\n",
      "user2.2@gvc.ceas-challenge.cc                        922\n",
      "user2.4@gvc.ceas-challenge.cc                        738\n",
      "                                                    ... \n",
      "andrea_justice@yahoo.com, c3ponr2d2@hotmail.com,       1\n",
      "jtr@usa.net                                            1\n",
      "\"FreeStoreClub\" <breakfree@luxmail.com>                1\n",
      "ilug@linux.ie, ilug-request@linux.ie                   1\n",
      "<klaganga@hotmail.com>, <pipop@loxinfo.co.th>,         1\n",
      "Name: count, Length: 5290, dtype: int64\n"
     ]
    }
   ],
   "source": [
    "print(dfCombine['receiver'].value_counts())"
   ]
  },
  {
   "cell_type": "code",
   "execution_count": 16,
   "metadata": {},
   "outputs": [
    {
     "name": "stdout",
     "output_type": "stream",
     "text": [
      "0    Tue, 05 Aug 2008 16:31:02 -0700\n",
      "1    Tue, 05 Aug 2008 18:31:03 -0500\n",
      "2    Tue, 05 Aug 2008 20:28:00 -1200\n",
      "3    Tue, 05 Aug 2008 17:31:20 -0600\n",
      "4    Tue, 05 Aug 2008 19:31:21 -0400\n",
      "Name: date, dtype: object\n"
     ]
    }
   ],
   "source": [
    "print(dfCombine['date'].head())"
   ]
  },
  {
   "cell_type": "code",
   "execution_count": 17,
   "metadata": {},
   "outputs": [
    {
     "name": "stdout",
     "output_type": "stream",
     "text": [
      "subject\n",
      "CNN.com Daily Top 10                                                                                     2930\n",
      "CNN Alerts: My Custom Alert                                                                              1406\n",
      "Re:                                                                                                       581\n",
      "123                                                                                                       255\n",
      "Re:                                                                                                       125\n",
      "                                                                                                         ... \n",
      "_Melhore sua segurana_                                                                                      1\n",
      "ADV: Lowest life insurance rates available!                                                   irloq         1\n",
      "** You're -Approved-! **                                                                                    1\n",
      "Hello lanigel Free Teen Action!                                                                             1\n",
      "It combines the best of Creative Suite 3 Design Premium, Web Premium, and Production Premium editions       1\n",
      "Name: count, Length: 19615, dtype: int64\n"
     ]
    }
   ],
   "source": [
    "print(dfCombine['subject'].value_counts())"
   ]
  },
  {
   "cell_type": "code",
   "execution_count": 147,
   "metadata": {},
   "outputs": [
    {
     "name": "stdout",
     "output_type": "stream",
     "text": [
      "urls\n",
      "1    31234\n",
      "0    13729\n",
      "Name: count, dtype: int64\n"
     ]
    },
    {
     "data": {
      "image/png": "[encoded data removed]",
      "text/plain": [
       "<Figure size 500x500 with 1 Axes>"
      ]
     },
     "metadata": {},
     "output_type": "display_data"
    }
   ],
   "source": [
    "print(dfCombine['urls'].value_counts())\n",
    "x = ['No', 'Yes']\n",
    "y = dfCombine['urls'].value_counts(ascending=True)\n",
    "plt.figure(figsize=(5,5))\n",
    "plt.bar(x, y, color=['tab:blue','tab:orange'])\n",
    "plt.title('Presence of URL in email')\n",
    "for i in range(len(y)):\n",
    "    plt.text(i , y[i]//2, y[i], ha='center')\n",
    "plt.show()"
   ]
  },
  {
   "cell_type": "code",
   "execution_count": null,
   "metadata": {},
   "outputs": [],
   "source": []
  }
 ],
 "metadata": {
  "kernelspec": {
   "display_name": "Python 3",
   "language": "python",
   "name": "python3"
  },
  "language_info": {
   "codemirror_mode": {
    "name": "ipython",
    "version": 3
   },
   "file_extension": ".py",
   "mimetype": "text/x-python",
   "name": "python",
   "nbconvert_exporter": "python",
   "pygments_lexer": "ipython3",
   "version": "3.12.0"
  }
 },
 "nbformat": 4,
 "nbformat_minor": 2
}
