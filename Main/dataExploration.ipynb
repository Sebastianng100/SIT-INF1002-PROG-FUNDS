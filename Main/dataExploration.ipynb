{
 "cells": [
  {
   "cell_type": "code",
   "execution_count": 1,
   "metadata": {},
   "outputs": [],
   "source": [
    "import pandas as pd\n",
    "import numpy as np"
   ]
  },
  {
   "cell_type": "code",
   "execution_count": 2,
   "metadata": {},
   "outputs": [],
   "source": [
    "dfCEAS = pd.read_csv('data/CEAS_08.csv')\n",
    "dfSA = pd.read_csv('data/SpamAssasin.csv')"
   ]
  },
  {
   "cell_type": "code",
   "execution_count": 3,
   "metadata": {},
   "outputs": [
    {
     "name": "stdout",
     "output_type": "stream",
     "text": [
      "<class 'pandas.core.frame.DataFrame'>\n",
      "RangeIndex: 39154 entries, 0 to 39153\n",
      "Data columns (total 7 columns):\n",
      " #   Column    Non-Null Count  Dtype \n",
      "---  ------    --------------  ----- \n",
      " 0   sender    39154 non-null  object\n",
      " 1   receiver  38692 non-null  object\n",
      " 2   date      39154 non-null  object\n",
      " 3   subject   39126 non-null  object\n",
      " 4   body      39154 non-null  object\n",
      " 5   label     39154 non-null  int64 \n",
      " 6   urls      39154 non-null  int64 \n",
      "dtypes: int64(2), object(5)\n",
      "memory usage: 2.1+ MB\n",
      "None\n",
      "                                              sender  \\\n",
      "0                   Young Esposito <Young@iworld.de>   \n",
      "1                       Mok <ipline's1983@icable.ph>   \n",
      "2  Daily Top 10 <Karmandeep-opengevl@universalnet...   \n",
      "3                 Michael Parker <ivqrnai@pobox.com>   \n",
      "4  Gretchen Suggs <externalsep1@loanofficertool.com>   \n",
      "\n",
      "                                         receiver  \\\n",
      "0                     user4@gvc.ceas-challenge.cc   \n",
      "1                   user2.2@gvc.ceas-challenge.cc   \n",
      "2                   user2.9@gvc.ceas-challenge.cc   \n",
      "3  SpamAssassin Dev <xrh@spamassassin.apache.org>   \n",
      "4                   user2.2@gvc.ceas-challenge.cc   \n",
      "\n",
      "                              date  \\\n",
      "0  Tue, 05 Aug 2008 16:31:02 -0700   \n",
      "1  Tue, 05 Aug 2008 18:31:03 -0500   \n",
      "2  Tue, 05 Aug 2008 20:28:00 -1200   \n",
      "3  Tue, 05 Aug 2008 17:31:20 -0600   \n",
      "4  Tue, 05 Aug 2008 19:31:21 -0400   \n",
      "\n",
      "                                             subject  \\\n",
      "0                          Never agree to be a loser   \n",
      "1                             Befriend Jenna Jameson   \n",
      "2                               CNN.com Daily Top 10   \n",
      "3  Re: svn commit: r619753 - in /spamassassin/tru...   \n",
      "4                         SpecialPricesPharmMoreinfo   \n",
      "\n",
      "                                                body  label  urls  \n",
      "0  Buck up, your troubles caused by small dimensi...      1     1  \n",
      "1  \\nUpgrade your sex and pleasures with these te...      1     1  \n",
      "2  >+=+=+=+=+=+=+=+=+=+=+=+=+=+=+=+=+=+=+=+=+=+=+...      1     1  \n",
      "3  Would anyone object to removing .so from this ...      0     1  \n",
      "4  \\nWelcomeFastShippingCustomerSupport\\nhttp://7...      1     1  \n"
     ]
    }
   ],
   "source": [
    "print(dfCEAS.info())\n",
    "print(dfCEAS.head())"
   ]
  },
  {
   "cell_type": "code",
   "execution_count": 4,
   "metadata": {},
   "outputs": [
    {
     "name": "stdout",
     "output_type": "stream",
     "text": [
      "<class 'pandas.core.frame.DataFrame'>\n",
      "RangeIndex: 5809 entries, 0 to 5808\n",
      "Data columns (total 7 columns):\n",
      " #   Column    Non-Null Count  Dtype \n",
      "---  ------    --------------  ----- \n",
      " 0   sender    5809 non-null   object\n",
      " 1   receiver  5599 non-null   object\n",
      " 2   date      5809 non-null   object\n",
      " 3   subject   5793 non-null   object\n",
      " 4   body      5808 non-null   object\n",
      " 5   label     5809 non-null   int64 \n",
      " 6   urls      5809 non-null   int64 \n",
      "dtypes: int64(2), object(5)\n",
      "memory usage: 317.8+ KB\n",
      "None\n",
      "                                      sender  \\\n",
      "0             Robert Elz <kre@munnari.OZ.AU>   \n",
      "1  Steve Burt <Steve_Burt@cursor-system.com>   \n",
      "2              \"Tim Chapman\" <timc@2ubh.com>   \n",
      "3           Monty Solomon <monty@roscom.com>   \n",
      "4  Stewart Smith <Stewart.Smith@ee.ed.ac.uk>   \n",
      "\n",
      "                                            receiver  \\\n",
      "0  Chris Garrigues <cwg-dated-1030377287.06fa6d@D...   \n",
      "1  \"'zzzzteana@yahoogroups.com'\" <zzzzteana@yahoo...   \n",
      "2              zzzzteana <zzzzteana@yahoogroups.com>   \n",
      "3                           undisclosed-recipient: ;   \n",
      "4                          zzzzteana@yahoogroups.com   \n",
      "\n",
      "                              date  \\\n",
      "0  Thu, 22 Aug 2002 18:26:25 +0700   \n",
      "1  Thu, 22 Aug 2002 12:46:18 +0100   \n",
      "2  Thu, 22 Aug 2002 13:52:38 +0100   \n",
      "3  Thu, 22 Aug 2002 09:15:25 -0400   \n",
      "4  Thu, 22 Aug 2002 14:38:22 +0100   \n",
      "\n",
      "                                          subject  \\\n",
      "0                        Re: New Sequences Window   \n",
      "1                       [zzzzteana] RE: Alexander   \n",
      "2                       [zzzzteana] Moscow bomber   \n",
      "3           [IRR] Klez: The Virus That  Won't Die   \n",
      "4  Re: [zzzzteana] Nothing like mama used to make   \n",
      "\n",
      "                                                body  label  urls  \n",
      "0  Date:        Wed, 21 Aug 2002 10:54:46 -0500  ...      0     1  \n",
      "1  Martin A posted:\\nTassos Papadopoulos, the Gre...      0     1  \n",
      "2  Man Threatens Explosion In Moscow \\n\\nThursday...      0     1  \n",
      "3  Klez: The Virus That Won't Die\\n \\nAlready the...      0     1  \n",
      "4  >  in adding cream to spaghetti carbonara, whi...      0     1  \n"
     ]
    }
   ],
   "source": [
    "print(dfSA.info())\n",
    "print(dfSA.head())"
   ]
  },
  {
   "cell_type": "code",
   "execution_count": 5,
   "metadata": {},
   "outputs": [
    {
     "name": "stdout",
     "output_type": "stream",
     "text": [
      "<class 'pandas.core.frame.DataFrame'>\n",
      "Index: 44963 entries, 0 to 5808\n",
      "Data columns (total 7 columns):\n",
      " #   Column    Non-Null Count  Dtype \n",
      "---  ------    --------------  ----- \n",
      " 0   sender    44963 non-null  object\n",
      " 1   receiver  44291 non-null  object\n",
      " 2   date      44963 non-null  object\n",
      " 3   subject   44919 non-null  object\n",
      " 4   body      44962 non-null  object\n",
      " 5   label     44963 non-null  int64 \n",
      " 6   urls      44963 non-null  int64 \n",
      "dtypes: int64(2), object(5)\n",
      "memory usage: 2.7+ MB\n",
      "None\n",
      "                                              sender  \\\n",
      "0                   Young Esposito <Young@iworld.de>   \n",
      "1                       Mok <ipline's1983@icable.ph>   \n",
      "2  Daily Top 10 <Karmandeep-opengevl@universalnet...   \n",
      "3                 Michael Parker <ivqrnai@pobox.com>   \n",
      "4  Gretchen Suggs <externalsep1@loanofficertool.com>   \n",
      "\n",
      "                                         receiver  \\\n",
      "0                     user4@gvc.ceas-challenge.cc   \n",
      "1                   user2.2@gvc.ceas-challenge.cc   \n",
      "2                   user2.9@gvc.ceas-challenge.cc   \n",
      "3  SpamAssassin Dev <xrh@spamassassin.apache.org>   \n",
      "4                   user2.2@gvc.ceas-challenge.cc   \n",
      "\n",
      "                              date  \\\n",
      "0  Tue, 05 Aug 2008 16:31:02 -0700   \n",
      "1  Tue, 05 Aug 2008 18:31:03 -0500   \n",
      "2  Tue, 05 Aug 2008 20:28:00 -1200   \n",
      "3  Tue, 05 Aug 2008 17:31:20 -0600   \n",
      "4  Tue, 05 Aug 2008 19:31:21 -0400   \n",
      "\n",
      "                                             subject  \\\n",
      "0                          Never agree to be a loser   \n",
      "1                             Befriend Jenna Jameson   \n",
      "2                               CNN.com Daily Top 10   \n",
      "3  Re: svn commit: r619753 - in /spamassassin/tru...   \n",
      "4                         SpecialPricesPharmMoreinfo   \n",
      "\n",
      "                                                body  label  urls  \n",
      "0  Buck up, your troubles caused by small dimensi...      1     1  \n",
      "1  \\nUpgrade your sex and pleasures with these te...      1     1  \n",
      "2  >+=+=+=+=+=+=+=+=+=+=+=+=+=+=+=+=+=+=+=+=+=+=+...      1     1  \n",
      "3  Would anyone object to removing .so from this ...      0     1  \n",
      "4  \\nWelcomeFastShippingCustomerSupport\\nhttp://7...      1     1  \n"
     ]
    }
   ],
   "source": [
    "dfCombine = pd.concat([dfCEAS, dfSA])\n",
    "print(dfCombine.info())\n",
    "print(dfCombine.head())"
   ]
  },
  {
   "cell_type": "code",
   "execution_count": 6,
   "metadata": {},
   "outputs": [
    {
     "name": "stdout",
     "output_type": "stream",
     "text": [
      "False    44963\n",
      "Name: count, dtype: int64\n"
     ]
    }
   ],
   "source": [
    "print(dfCombine.duplicated().value_counts())"
   ]
  },
  {
   "cell_type": "code",
   "execution_count": 23,
   "metadata": {},
   "outputs": [
    {
     "name": "stdout",
     "output_type": "stream",
     "text": [
      "sender                       Young Esposito <Young@iworld.de>\n",
      "receiver                          user4@gvc.ceas-challenge.cc\n",
      "date                          Tue, 05 Aug 2008 16:31:02 -0700\n",
      "subject                             Never agree to be a loser\n",
      "body        Buck up, your troubles caused by small dimensi...\n",
      "label                                                       1\n",
      "urls                                                        1\n",
      "Name: 0, dtype: object\n"
     ]
    }
   ],
   "source": [
    "print(dfCombine.iloc[0])"
   ]
  },
  {
   "cell_type": "code",
   "execution_count": 16,
   "metadata": {},
   "outputs": [
    {
     "name": "stdout",
     "output_type": "stream",
     "text": [
      "label\n",
      "1    23560\n",
      "0    21403\n",
      "Name: count, dtype: int64\n"
     ]
    }
   ],
   "source": [
    "print(dfCombine['label'].value_counts())"
   ]
  },
  {
   "cell_type": "code",
   "execution_count": 32,
   "metadata": {},
   "outputs": [
    {
     "name": "stdout",
     "output_type": "stream",
     "text": [
      "sender\n",
      "qydlqcws-iacfym@issues.apache.org                                462\n",
      "Guido van Rossum <hoauf@python.org>                              295\n",
      "\"\\\\\"Martin v. Löwis\\\\\"\" <qpnysl@v.loewis.de>                     276\n",
      "\"Carlos E. R.\" <vyjwd.trpcau@telefonica.net>                     208\n",
      "Aaron Kulkis <cmiqlkx91@hotpop.com>                              183\n",
      "                                                                ... \n",
      "Boris Petty <Boris@occinc.com>                                     1\n",
      "Denise Bland <Denise@sigro.com>                                    1\n",
      "Freda Hutchison <RosemarierelayedMccauley@uwinnipeg.ca>            1\n",
      "Mercedes Hutchison <DoreenrageHenley@washingtonpost.com>           1\n",
      "\"wilsonkamela400@netscape.net\" <wilsonkamela500@netscape.net>      1\n",
      "Name: count, Length: 27101, dtype: int64\n"
     ]
    }
   ],
   "source": [
    "print(dfCombine['sender'].value_counts())"
   ]
  },
  {
   "cell_type": "code",
   "execution_count": 33,
   "metadata": {},
   "outputs": [
    {
     "name": "stdout",
     "output_type": "stream",
     "text": [
      "receiver\n",
      "user6@gvc.ceas-challenge.cc                                                                                                                                                                                                                                    1375\n",
      "wkilxloc@opensuse.org                                                                                                                                                                                                                                          1230\n",
      "user2.1@gvc.ceas-challenge.cc                                                                                                                                                                                                                                  1037\n",
      "user2.2@gvc.ceas-challenge.cc                                                                                                                                                                                                                                   922\n",
      "user2.4@gvc.ceas-challenge.cc                                                                                                                                                                                                                                   738\n",
      "                                                                                                                                                                                                                                                               ... \n",
      "Humberto Diogenes <fzfpujon@digi.com.br>                                                                                                                                                                                                                          1\n",
      "Rafael Garcia-Suarez <pvhuhqgncrxnu@gmail.com>, \"Andreas J. Koenig\" <bwhcppr.mukezr.7qm9whcp@franz.ak.mind.de>, Jochen Stenzel <ogkf@jochen-stenzel.de>, Johan Vromans CPWR <qmabcthq@squirrel.nl>, The Perl5 Porters Mailing List <qtog3-epoawmh@perl.org>       1\n",
      "Rick Macdougall <sfwrk@ummm-beer.com>                                                                                                                                                                                                                             1\n",
      "bdard-buthszfgfn@googlegroups.com, racajx-ppouhft@informatik.uni-ulm.de, ww@isle.org, faq@engr.orst.edu, stxfkpts-fpkt@googlegroups.com, bqqydgkxatc@yahoogroups.com                                                                                              1\n",
      "Mailing.List@user2.pro-ns.net                                                                                                                                                                                                                                     1\n",
      "Name: count, Length: 5290, dtype: int64\n"
     ]
    }
   ],
   "source": [
    "print(dfCombine['receiver'].value_counts())"
   ]
  },
  {
   "cell_type": "code",
   "execution_count": 26,
   "metadata": {},
   "outputs": [
    {
     "name": "stdout",
     "output_type": "stream",
     "text": [
      "0    Tue, 05 Aug 2008 16:31:02 -0700\n",
      "1    Tue, 05 Aug 2008 18:31:03 -0500\n",
      "2    Tue, 05 Aug 2008 20:28:00 -1200\n",
      "3    Tue, 05 Aug 2008 17:31:20 -0600\n",
      "4    Tue, 05 Aug 2008 19:31:21 -0400\n",
      "Name: date, dtype: object\n"
     ]
    }
   ],
   "source": [
    "print(dfCombine['date'].head())"
   ]
  },
  {
   "cell_type": "code",
   "execution_count": 30,
   "metadata": {},
   "outputs": [
    {
     "name": "stdout",
     "output_type": "stream",
     "text": [
      "subject\n",
      "CNN.com Daily Top 10                                                  2930\n",
      "CNN Alerts: My Custom Alert                                           1406\n",
      "Re:                                                                    581\n",
      "123                                                                    255\n",
      "Re:                                                                    125\n",
      "                                                                      ... \n",
      "100mg x 90 pills US $ 159.95 buy now                                     1\n",
      "Improve your  sex life !                                                 1\n",
      "[UAI] Bayesian Modelling Applications WS -- Call for Contributions       1\n",
      "[Buildbot-devel] Running A BBot Slave Windows                            1\n",
      "[ILUG] WILSON  KAMELA                                                    1\n",
      "Name: count, Length: 19615, dtype: int64\n"
     ]
    }
   ],
   "source": [
    "print(dfCombine['subject'].value_counts())"
   ]
  },
  {
   "cell_type": "code",
   "execution_count": 35,
   "metadata": {},
   "outputs": [
    {
     "name": "stdout",
     "output_type": "stream",
     "text": [
      "urls\n",
      "1    31234\n",
      "0    13729\n",
      "Name: count, dtype: int64\n"
     ]
    }
   ],
   "source": [
    "print(dfCombine['urls'].value_counts())"
   ]
  },
  {
   "cell_type": "code",
   "execution_count": null,
   "metadata": {},
   "outputs": [],
   "source": []
  }
 ],
 "metadata": {
  "kernelspec": {
   "display_name": "Python 3",
   "language": "python",
   "name": "python3"
  },
  "language_info": {
   "codemirror_mode": {
    "name": "ipython",
    "version": 3
   },
   "file_extension": ".py",
   "mimetype": "text/x-python",
   "name": "python",
   "nbconvert_exporter": "python",
   "pygments_lexer": "ipython3",
   "version": "3.12.4"
  }
 },
 "nbformat": 4,
 "nbformat_minor": 2
}
