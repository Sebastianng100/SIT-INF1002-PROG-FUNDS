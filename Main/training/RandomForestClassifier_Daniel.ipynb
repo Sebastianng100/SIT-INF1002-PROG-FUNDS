{
 "cells": [
  {
   "cell_type": "code",
   "execution_count": 1,
   "metadata": {},
   "outputs": [],
   "source": [
    "import numpy as np\n",
    "import pandas as pd\n",
    "import matplotlib.pyplot as plt\n",
    "from sklearn.model_selection import train_test_split\n",
    "from sklearn.preprocessing import StandardScaler, FunctionTransformer\n",
    "from sklearn.compose import ColumnTransformer\n",
    "from sklearn.ensemble import RandomForestClassifier\n",
    "from sklearn.metrics import accuracy_score, confusion_matrix, classification_report\n",
    "from sklearn.feature_extraction.text import TfidfVectorizer\n",
    "from scipy.sparse import csr_matrix\n",
    "import seaborn as sns\n",
    "\n"
   ]
  },
  {
   "cell_type": "code",
   "execution_count": 2,
   "metadata": {},
   "outputs": [],
   "source": [
    "df = pd.read_csv(\"../data/cleanedData.csv\")"
   ]
  },
  {
   "cell_type": "code",
   "execution_count": 3,
   "metadata": {},
   "outputs": [],
   "source": [
    "X = df.drop(['label'], axis=1)\n",
    "y = df['label']"
   ]
  },
  {
   "cell_type": "code",
   "execution_count": 4,
   "metadata": {},
   "outputs": [],
   "source": [
    "X_train, X_testvalid, y_train, y_testvalid = train_test_split(X, y, test_size=0.4, random_state=1)"
   ]
  },
  {
   "cell_type": "code",
   "execution_count": 5,
   "metadata": {},
   "outputs": [],
   "source": [
    "X_valid, X_test, y_valid, y_test = train_test_split(X_testvalid, y_testvalid, train_size=0.5, random_state=1)"
   ]
  },
  {
   "cell_type": "code",
   "execution_count": 6,
   "metadata": {},
   "outputs": [],
   "source": [
    "binary_cols = ['urls', 'generalConsumer', 'govDomain', 'eduDomain', 'orgDomain', 'netDomain', 'otherDomain', 'html']\n",
    "cont_cols = ['punctuationCount', 'subjectLength', 'bodyLength', 'totalLength']"
   ]
  },
  {
   "cell_type": "code",
   "execution_count": 7,
   "metadata": {},
   "outputs": [],
   "source": [
    "def to_csr(x):\n",
    "    return csr_matrix(x)"
   ]
  },
  {
   "cell_type": "code",
   "execution_count": 8,
   "metadata": {},
   "outputs": [],
   "source": [
    "binary_transformer = FunctionTransformer(func=to_csr, accept_sparse=True)"
   ]
  },
  {
   "cell_type": "code",
   "execution_count": 9,
   "metadata": {},
   "outputs": [],
   "source": [
    "ct = ColumnTransformer(\n",
    "    transformers=[\n",
    "        ('text', TfidfVectorizer(), 'fullContent'),\n",
    "        ('binary', binary_transformer, binary_cols),\n",
    "        ('cont', StandardScaler(), cont_cols)\n",
    "    ],\n",
    ")\n"
   ]
  },
  {
   "cell_type": "code",
   "execution_count": 10,
   "metadata": {},
   "outputs": [],
   "source": [
    "transformed_X_train = ct.fit_transform(X_train)\n",
    "transformed_X_valid = ct.transform(X_valid)\n",
    "transformed_X_test = ct.transform(X_test)"
   ]
  },
  {
   "cell_type": "code",
   "execution_count": 21,
   "metadata": {},
   "outputs": [],
   "source": [
    "randf = RandomForestClassifier(n_estimators=50)\n",
    "randf.fit(transformed_X_train, y_train)\n",
    "train_pred = randf.predict(transformed_X_train)\n",
    "\n"
   ]
  },
  {
   "cell_type": "code",
   "execution_count": 12,
   "metadata": {},
   "outputs": [],
   "source": [
    "def printCM(predictLabels, trueLabels):\n",
    "    class_report = classification_report(trueLabels, predictLabels)\n",
    "    print(class_report)\n",
    "\n",
    "    cm = confusion_matrix(trueLabels, predictLabels)\n",
    "\n",
    "    # Define class labels for the confusion matrix (for binary classification)\n",
    "    class_labels = ['Phishing', 'Non-Phishing']  # Adjust according to your classes\n",
    "\n",
    "    # Create the heatmap without annotations (annot=False)\n",
    "    plt.figure(figsize=(8, 6))\n",
    "    ax = sns.heatmap(cm, annot=False, fmt='d', cmap='Blues', cbar=False)\n",
    "\n",
    "    # Set axis labels\n",
    "    ax.set_xlabel('True', fontsize=12)\n",
    "    ax.set_ylabel('Predicted', fontsize=12)\n",
    "\n",
    "    # Set the class labels on the axes\n",
    "    ax.set_xticklabels(class_labels, fontsize=10)\n",
    "    ax.set_yticklabels(class_labels, fontsize=10)\n",
    "\n",
    "    # Set title\n",
    "    plt.title('Confusion Matrix')\n",
    "\n",
    "    # Manually add True Positive, False Positive, True Negative, and False Negative annotations\n",
    "    # You must use the exact cell positions for each term in the 2x2 confusion matrix\n",
    "    ax.text(0.5, 0.5, 'TP\\n(' + str(cm[1, 1]) + ')', ha='center', va='center', fontsize=12)\n",
    "    ax.text(1.5, 0.5, 'FP\\n(' + str(cm[0, 1]) + ')', ha='center', va='center', fontsize=12)\n",
    "    ax.text(0.5, 1.5, 'FN\\n(' + str(cm[1, 0]) + ')', ha='center', va='center', fontsize=12)\n",
    "    ax.text(1.5, 1.5, 'TN\\n(' + str(cm[0, 0]) + ')', ha='center', va='center', fontsize=12)\n",
    "\n",
    "    # Show the plot\n",
    "    plt.tight_layout()\n",
    "    return plt.show()"
   ]
  },
  {
   "cell_type": "code",
   "execution_count": 22,
   "metadata": {},
   "outputs": [
    {
     "name": "stdout",
     "output_type": "stream",
     "text": [
      "Model accuracy score with 50 decision-trees for training dataset: 1.0000\n"
     ]
    }
   ],
   "source": [
    "print('Model accuracy score with 50 decision-trees for training dataset: {0:0.4f}'. format(accuracy_score(y_train, train_pred)))"
   ]
  },
  {
   "cell_type": "code",
   "execution_count": 25,
   "metadata": {},
   "outputs": [
    {
     "name": "stdout",
     "output_type": "stream",
     "text": [
      "              precision    recall  f1-score   support\n",
      "\n",
      "           0       1.00      1.00      1.00     12481\n",
      "           1       1.00      1.00      1.00     14093\n",
      "\n",
      "    accuracy                           1.00     26574\n",
      "   macro avg       1.00      1.00      1.00     26574\n",
      "weighted avg       1.00      1.00      1.00     26574\n",
      "\n"
     ]
    },
    {
     "data": {
      "image/png": "[encoded data removed]",
      "text/plain": [
       "<Figure size 800x600 with 1 Axes>"
      ]
     },
     "metadata": {},
     "output_type": "display_data"
    }
   ],
   "source": [
    "printCM(y_train, train_pred)"
   ]
  },
  {
   "cell_type": "code",
   "execution_count": 23,
   "metadata": {},
   "outputs": [
    {
     "name": "stdout",
     "output_type": "stream",
     "text": [
      "0.9778731090539625\n"
     ]
    }
   ],
   "source": [
    "valid_pred = randf.predict(transformed_X_valid)\n",
    "print(accuracy_score(y_valid, valid_pred))"
   ]
  },
  {
   "cell_type": "code",
   "execution_count": 24,
   "metadata": {},
   "outputs": [
    {
     "name": "stdout",
     "output_type": "stream",
     "text": [
      "Train:  (26574, 192287)\n",
      "Cross Validation:  (8858, 192287)\n",
      "Test: (8858, 192287)\n"
     ]
    }
   ],
   "source": [
    "print(\"Train: \", transformed_X_train.shape)\n",
    "print(\"Cross Validation: \", transformed_X_valid.shape)\n",
    "print(\"Test:\", transformed_X_test.shape) "
   ]
  },
  {
   "cell_type": "code",
   "execution_count": 17,
   "metadata": {},
   "outputs": [
    {
     "name": "stdout",
     "output_type": "stream",
     "text": [
      "Model accuracy score with 10 decision-trees for test dataset: 0.9760\n"
     ]
    }
   ],
   "source": [
    "test_pred = randf.predict(transformed_X_test)\n",
    "\n",
    "print('Model accuracy score with 50 decision-trees for test dataset: {0:0.4f}'. format(accuracy_score(y_test, test_pred)))"
   ]
  },
  {
   "cell_type": "code",
   "execution_count": 18,
   "metadata": {},
   "outputs": [
    {
     "name": "stdout",
     "output_type": "stream",
     "text": [
      "              precision    recall  f1-score   support\n",
      "\n",
      "           0       0.99      0.96      0.97      4308\n",
      "           1       0.96      0.99      0.98      4550\n",
      "\n",
      "    accuracy                           0.98      8858\n",
      "   macro avg       0.98      0.98      0.98      8858\n",
      "weighted avg       0.98      0.98      0.98      8858\n",
      "\n"
     ]
    },
    {
     "data": {
      "image/png": "[encoded data removed]",
      "text/plain": [
       "<Figure size 800x600 with 1 Axes>"
      ]
     },
     "metadata": {},
     "output_type": "display_data"
    }
   ],
   "source": [
    "printCM(y_test, test_pred)"
   ]
  }
 ],
 "metadata": {
  "kernelspec": {
   "display_name": "Python 3",
   "language": "python",
   "name": "python3"
  },
  "language_info": {
   "codemirror_mode": {
    "name": "ipython",
    "version": 3
   },
   "file_extension": ".py",
   "mimetype": "text/x-python",
   "name": "python",
   "nbconvert_exporter": "python",
   "pygments_lexer": "ipython3",
   "version": "3.12.0"
  }
 },
 "nbformat": 4,
 "nbformat_minor": 2
}
