{
 "cells": [
  {
   "cell_type": "code",
   "execution_count": 1,
   "metadata": {},
   "outputs": [],
   "source": [
    "import numpy as np \n",
    "import pandas as pd \n",
    "import matplotlib.pyplot as plt #\n",
    "import seaborn as sns\n",
    "import tensorflow as tf\n",
    "from sklearn.preprocessing import StandardScaler\n",
    "from sklearn.metrics import accuracy_score, confusion_matrix, classification_report\n",
    "from sklearn.model_selection import train_test_split\n",
    "from sklearn.feature_extraction.text import TfidfVectorizer\n",
    "from scipy.sparse import hstack, csr_matrix\n",
    "from sklearn.neural_network import MLPClassifier\n",
    "import pickle"
   ]
  },
  {
   "cell_type": "code",
   "execution_count": 2,
   "metadata": {},
   "outputs": [],
   "source": [
    "df = pd.read_csv(\"../data/cleanedData.csv\")"
   ]
  },
  {
   "cell_type": "code",
   "execution_count": 3,
   "metadata": {},
   "outputs": [],
   "source": [
    "# Separate target(label) from predictor columns\n",
    "y = df.label\n",
    "\n",
    "# TF-IDF vectorization\n",
    "tfidf_vectorizer = TfidfVectorizer()\n",
    "tfidf_matrix = tfidf_vectorizer.fit_transform(df['fullContent'])\n",
    "\n",
    "# Continuous features normalization\n",
    "scaler = StandardScaler()\n",
    "contd = scaler.fit_transform(df[['punctuationCount', 'subjectLength', 'bodyLength', 'totalLength']])\n",
    "\n",
    "# Sparse binary features\n",
    "sparse_features = csr_matrix(df[[\"urls\", \"totalLength\", \"generalConsumer\", \"govDomain\", \"eduDomain\", \"orgDomain\", \"netDomain\", \"otherDomain\", \"html\", \"punctuationCount\"]].values)\n",
    "\n",
    "X = hstack([sparse_features, contd, tfidf_matrix])\n",
    "\n",
    "X_train, X_test, y_train, y_test = train_test_split(X, y, test_size = 0.2, random_state = 0)"
   ]
  },
  {
   "cell_type": "code",
   "execution_count": 4,
   "metadata": {},
   "outputs": [
    {
     "name": "stdout",
     "output_type": "stream",
     "text": [
      "Iteration 1, loss = 0.63680900\n",
      "Validation score: 0.720090\n",
      "Iteration 2, loss = 0.58374676\n",
      "Validation score: 0.776242\n",
      "Iteration 3, loss = 0.51481218\n",
      "Validation score: 0.824774\n",
      "Iteration 4, loss = 0.45398113\n",
      "Validation score: 0.915914\n",
      "Iteration 5, loss = 0.38878022\n",
      "Validation score: 0.939616\n",
      "Iteration 6, loss = 0.32465939\n",
      "Validation score: 0.949774\n",
      "Iteration 7, loss = 0.27502442\n",
      "Validation score: 0.965011\n",
      "Iteration 8, loss = 0.25640983\n",
      "Validation score: 0.961625\n",
      "Iteration 9, loss = 0.20996820\n",
      "Validation score: 0.968397\n",
      "Iteration 10, loss = 0.19152750\n",
      "Validation score: 0.977709\n",
      "Iteration 11, loss = 0.17035789\n",
      "Validation score: 0.974887\n",
      "Iteration 12, loss = 0.14325146\n",
      "Validation score: 0.963036\n",
      "Iteration 13, loss = 0.14583082\n",
      "Validation score: 0.979402\n",
      "Iteration 14, loss = 0.12077678\n",
      "Validation score: 0.983352\n",
      "Iteration 15, loss = 0.12060172\n",
      "Validation score: 0.977991\n",
      "Iteration 16, loss = 0.12933031\n",
      "Validation score: 0.985892\n",
      "Iteration 17, loss = 0.09401816\n",
      "Validation score: 0.989278\n",
      "Iteration 18, loss = 0.09442351\n",
      "Validation score: 0.970090\n",
      "Iteration 19, loss = 0.10960682\n",
      "Validation score: 0.988995\n",
      "Iteration 20, loss = 0.07859569\n",
      "Validation score: 0.984481\n",
      "Accuracy: 0.9893881237299617\n"
     ]
    },
    {
     "name": "stderr",
     "output_type": "stream",
     "text": [
      "C:\\Users\\zihin\\AppData\\Local\\Packages\\PythonSoftwareFoundation.Python.3.11_qbz5n2kfra8p0\\LocalCache\\local-packages\\Python311\\site-packages\\sklearn\\neural_network\\_multilayer_perceptron.py:690: ConvergenceWarning: Stochastic Optimizer: Maximum iterations (20) reached and the optimization hasn't converged yet.\n",
      "  warnings.warn(\n"
     ]
    }
   ],
   "source": [
    "# base model\n",
    "basem = MLPClassifier(hidden_layer_sizes = 5, random_state=1, max_iter=20, early_stopping=True, verbose=True).fit(X_train, y_train)\n",
    "\n",
    "# Evaluate the model\n",
    "y_pred_prob = basem.predict(X_test)\n",
    "y_pred_binary = (y_pred_prob > 0.5).astype(int)\n",
    "\n",
    "# Calculate accuracy\n",
    "accuracy = accuracy_score(y_test, y_pred_binary)\n",
    "print(f'Accuracy: {accuracy}')"
   ]
  },
  {
   "cell_type": "code",
   "execution_count": 5,
   "metadata": {},
   "outputs": [],
   "source": [
    "def printCM(predictLabels, trueLabels):\n",
    "    class_report = classification_report(trueLabels, predictLabels)\n",
    "    print(class_report)\n",
    "\n",
    "    cm = confusion_matrix(trueLabels, predictLabels)\n",
    "\n",
    "    # Define class labels for the confusion matrix (for binary classification)\n",
    "    class_labels = ['Phishing', 'Non-Phishing']  # Adjust according to your classes\n",
    "\n",
    "    # Create the heatmap without annotations (annot=False)\n",
    "    plt.figure(figsize=(8, 6))\n",
    "    ax = sns.heatmap(cm, annot=False, fmt='d', cmap='Blues', cbar=False)\n",
    "\n",
    "    # Set axis labels\n",
    "    ax.set_xlabel('True', fontsize=12)\n",
    "    ax.set_ylabel('Predicted', fontsize=12)\n",
    "\n",
    "    # Set the class labels on the axes\n",
    "    ax.set_xticklabels(class_labels, fontsize=10)\n",
    "    ax.set_yticklabels(class_labels, fontsize=10)\n",
    "\n",
    "    # Set title\n",
    "    plt.title('Confusion Matrix')\n",
    "\n",
    "    # Manually add True Positive, False Positive, True Negative, and False Negative annotations\n",
    "    # You must use the exact cell positions for each term in the 2x2 confusion matrix\n",
    "    ax.text(0.5, 0.5, 'TP\\n(' + str(cm[1, 1]) + ')', ha='center', va='center', fontsize=12)\n",
    "    ax.text(1.5, 0.5, 'FP\\n(' + str(cm[0, 1]) + ')', ha='center', va='center', fontsize=12)\n",
    "    ax.text(0.5, 1.5, 'FN\\n(' + str(cm[1, 0]) + ')', ha='center', va='center', fontsize=12)\n",
    "    ax.text(1.5, 1.5, 'TN\\n(' + str(cm[0, 0]) + ')', ha='center', va='center', fontsize=12)\n",
    "\n",
    "    # Show the plot\n",
    "    plt.tight_layout()\n",
    "    return plt.show()"
   ]
  },
  {
   "cell_type": "code",
   "execution_count": 6,
   "metadata": {},
   "outputs": [
    {
     "name": "stdout",
     "output_type": "stream",
     "text": [
      "              precision    recall  f1-score   support\n",
      "\n",
      "           0       0.99      0.99      0.99      4191\n",
      "           1       0.99      0.99      0.99      4667\n",
      "\n",
      "    accuracy                           0.99      8858\n",
      "   macro avg       0.99      0.99      0.99      8858\n",
      "weighted avg       0.99      0.99      0.99      8858\n",
      "\n"
     ]
    },
    {
     "data": {
      "image/png": "[encoded data removed]",
      "text/plain": [
       "<Figure size 800x600 with 1 Axes>"
      ]
     },
     "metadata": {},
     "output_type": "display_data"
    }
   ],
   "source": [
    "# create heatmap\n",
    "printCM(y_test, y_pred_binary)"
   ]
  },
  {
   "cell_type": "code",
   "execution_count": 7,
   "metadata": {},
   "outputs": [
    {
     "name": "stdout",
     "output_type": "stream",
     "text": [
      "Iteration 1, loss = 0.64310749\n",
      "Validation score: 0.942156\n",
      "Iteration 2, loss = 0.37162202\n",
      "Validation score: 0.865124\n",
      "Iteration 3, loss = 0.20039382\n",
      "Validation score: 0.972912\n",
      "Iteration 4, loss = 0.16521630\n",
      "Validation score: 0.977991\n",
      "Iteration 5, loss = 0.17662837\n",
      "Validation score: 0.983070\n",
      "Iteration 6, loss = 0.13081161\n",
      "Validation score: 0.985609\n",
      "Iteration 7, loss = 0.11239552\n",
      "Validation score: 0.987585\n",
      "Iteration 8, loss = 0.14772740\n",
      "Validation score: 0.967269\n",
      "Iteration 9, loss = 0.14202983\n",
      "Validation score: 0.990688\n",
      "Iteration 10, loss = 0.06085204\n",
      "Validation score: 0.970937\n",
      "Iteration 11, loss = 0.22401905\n",
      "Validation score: 0.983352\n",
      "Iteration 12, loss = 0.08277798\n",
      "Validation score: 0.987020\n",
      "Iteration 13, loss = 0.12881701\n",
      "Validation score: 0.990688\n",
      "Iteration 14, loss = 0.15181352\n",
      "Validation score: 0.989842\n",
      "Iteration 15, loss = 0.07025833\n",
      "Validation score: 0.992381\n",
      "Iteration 16, loss = 0.11081300\n",
      "Validation score: 0.987585\n",
      "Iteration 17, loss = 0.11089009\n",
      "Validation score: 0.979120\n",
      "Iteration 18, loss = 0.09363796\n",
      "Validation score: 0.988149\n",
      "Iteration 19, loss = 0.09160773\n",
      "Validation score: 0.993792\n",
      "Iteration 20, loss = 0.09905164\n",
      "Validation score: 0.989842\n",
      "Iteration 21, loss = 0.12726174\n",
      "Validation score: 0.994074\n",
      "Iteration 22, loss = 0.04980290\n",
      "Validation score: 0.992099\n",
      "Iteration 23, loss = 0.13334333\n",
      "Validation score: 0.990406\n",
      "Iteration 24, loss = 0.09858991\n",
      "Validation score: 0.992099\n",
      "Iteration 25, loss = 0.06803419\n",
      "Validation score: 0.995203\n",
      "Iteration 26, loss = 0.09085008\n",
      "Validation score: 0.987302\n",
      "Iteration 27, loss = 0.10248434\n",
      "Validation score: 0.969244\n",
      "Iteration 28, loss = 0.08732606\n",
      "Validation score: 0.994074\n",
      "Iteration 29, loss = 0.08817406\n",
      "Validation score: 0.990688\n",
      "Iteration 30, loss = 0.05334379\n",
      "Validation score: 0.994921\n",
      "Iteration 31, loss = 0.07015823\n",
      "Validation score: 0.982506\n",
      "Iteration 32, loss = 0.08864265\n",
      "Validation score: 0.967551\n",
      "Iteration 33, loss = 0.10172019\n",
      "Validation score: 0.898984\n",
      "Iteration 34, loss = 0.07076291\n",
      "Validation score: 0.983916\n",
      "Iteration 35, loss = 0.06551299\n",
      "Validation score: 0.994357\n",
      "Iteration 36, loss = 0.06322795\n",
      "Validation score: 0.983634\n",
      "Validation score did not improve more than tol=0.000100 for 10 consecutive epochs. Stopping.\n",
      "Accuracy: 0.9933393542560397\n"
     ]
    }
   ],
   "source": [
    "# 2nd model\n",
    "tunemodel = MLPClassifier(hidden_layer_sizes = 20, random_state=1, max_iter=100, early_stopping=True, verbose=True).fit(X_train, y_train)\n",
    "\n",
    "# Evaluate the model\n",
    "y_pred_prob = tunemodel.predict(X_test)\n",
    "y_pred_binary = (y_pred_prob > 0.5).astype(int)\n",
    "\n",
    "# Calculate accuracy\n",
    "accuracy = accuracy_score(y_test, y_pred_binary)\n",
    "print(f'Accuracy: {accuracy}')\n"
   ]
  },
  {
   "cell_type": "code",
   "execution_count": 8,
   "metadata": {},
   "outputs": [
    {
     "name": "stdout",
     "output_type": "stream",
     "text": [
      "              precision    recall  f1-score   support\n",
      "\n",
      "           0       0.99      0.99      0.99      4164\n",
      "           1       1.00      0.99      0.99      4694\n",
      "\n",
      "    accuracy                           0.99      8858\n",
      "   macro avg       0.99      0.99      0.99      8858\n",
      "weighted avg       0.99      0.99      0.99      8858\n",
      "\n"
     ]
    },
    {
     "data": {
      "image/png": "[encoded data removed]",
      "text/plain": [
       "<Figure size 800x600 with 1 Axes>"
      ]
     },
     "metadata": {},
     "output_type": "display_data"
    }
   ],
   "source": [
    "# create heatmap\n",
    "printCM(y_test, y_pred_binary)"
   ]
  },
  {
   "cell_type": "code",
   "execution_count": 9,
   "metadata": {},
   "outputs": [],
   "source": [
    "#Saving the tuned models that were already fitted with training data\n",
    "with open('../model/MLPClassifier_ZiHin.pkl', 'wb') as file: pickle.dump(tunemodel, file)"
   ]
  }
 ],
 "metadata": {
  "kernelspec": {
   "display_name": "Python 3",
   "language": "python",
   "name": "python3"
  },
  "language_info": {
   "codemirror_mode": {
    "name": "ipython",
    "version": 3
   },
   "file_extension": ".py",
   "mimetype": "text/x-python",
   "name": "python",
   "nbconvert_exporter": "python",
   "pygments_lexer": "ipython3",
   "version": "3.11.9"
  }
 },
 "nbformat": 4,
 "nbformat_minor": 2
}
